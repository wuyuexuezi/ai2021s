{
 "cells": [
  {
   "cell_type": "markdown",
   "metadata": {},
   "source": [
    "# 作业3：深度学习框架实践"
   ]
  },
  {
   "cell_type": "markdown",
   "metadata": {},
   "source": [
    "本次作业将练习深度学习框架的使用，大部分内容用 PyTorch 实现。第1题利用卷积层和全连接层实现手写数字的识别，第2题利用 RNN 来实现英文名的自动生成，第3题是算法题，利用卷积运算实现任意大整数的乘法。"
   ]
  },
  {
   "cell_type": "markdown",
   "metadata": {},
   "source": [
    "### 第1题"
   ]
  },
  {
   "cell_type": "markdown",
   "metadata": {},
   "source": [
    "1. 目标：通过对 MNIST 数据进行训练，构建一个简单的图像分类模型，对图片中的数字进行识别。你将利用该模型对自己真实手写出的数字进行预测，观察模型效果。"
   ]
  },
  {
   "cell_type": "markdown",
   "metadata": {},
   "source": [
    "2. 主要步骤：获取数据，创建模型结构，定义损失函数，编写训练循环，实施预测。"
   ]
  },
  {
   "cell_type": "markdown",
   "metadata": {},
   "source": [
    "3. 获取数据。我们使用知名的 MNIST 数据集，它可以从 PyTorch 中利用工具函数下载得到。原始的 MNIST 数据训练集大小为60000，我们随机抽取其中的10000个观测进行简单的训练。以下函数会在当前目录建立一个名为 data 的文件夹，其中会包含下载得到的数据集。"
   ]
  },
  {
   "cell_type": "markdown",
   "metadata": {},
   "source": [
    "**注意：请在任何程序的最开始加上随机数种子的设置。请保持这一习惯。**"
   ]
  },
  {
   "cell_type": "code",
   "execution_count": 1,
   "metadata": {},
   "outputs": [],
   "source": [
    "import numpy as np\n",
    "import torch\n",
    "from torchvision import datasets\n",
    "from torchvision.transforms import ToTensor\n",
    "from torch.utils.data import DataLoader\n",
    "\n",
    "np.random.seed(123)\n",
    "torch.manual_seed(123)\n",
    "\n",
    "mnist = datasets.MNIST(\n",
    "    root=\"data\",\n",
    "    train=True,\n",
    "    download=True,\n",
    "    transform=ToTensor()\n",
    ")\n",
    "loader = DataLoader(mnist, batch_size=200, shuffle=True)"
   ]
  },
  {
   "cell_type": "markdown",
   "metadata": {},
   "source": [
    "我们一次性取出随机抽取到的10000个观测，其中 x 是图片数据，y 是图片对应的数字。"
   ]
  },
  {
   "cell_type": "code",
   "execution_count": 2,
   "metadata": {},
   "outputs": [],
   "source": [
    "x, y = next(iter(loader))"
   ]
  },
  {
   "cell_type": "markdown",
   "metadata": {},
   "source": [
    "一个习惯性动作是查看数据的大小和维度。"
   ]
  },
  {
   "cell_type": "code",
   "execution_count": 3,
   "metadata": {},
   "outputs": [
    {
     "name": "stdout",
     "output_type": "stream",
     "text": [
      "torch.Size([200, 1, 28, 28])\n",
      "torch.Size([200])\n"
     ]
    }
   ],
   "source": [
    "print(x.shape)\n",
    "print(y.shape)"
   ]
  },
  {
   "cell_type": "markdown",
   "metadata": {},
   "source": [
    "我们可以利用下面的函数展示图片的内容。如选择第一张图片，先将其转换成 Numpy 数组，再绘制图形："
   ]
  },
  {
   "cell_type": "code",
   "execution_count": null,
   "metadata": {
    "scrolled": true
   },
   "outputs": [
    {
     "name": "stdout",
     "output_type": "stream",
     "text": [
      "(28, 28)\n"
     ]
    }
   ],
   "source": [
    "import matplotlib.pyplot as plt\n",
    "\n",
    "img = x[0].squeeze().cpu().numpy()\n",
    "print(img.shape)\n",
    "plt.imshow(img, cmap=\"gray\")\n",
    "plt.show()"
   ]
  },
  {
   "cell_type": "markdown",
   "metadata": {},
   "source": [
    "接下来请你选择5个你喜欢的数字（10000以下），然后取出对应位置的图片，并画出它们的内容。"
   ]
  },
  {
   "cell_type": "code",
   "execution_count": null,
   "metadata": {},
   "outputs": [],
   "source": [
    "# Plot five digits here   可能软件有问题 这一个和上一个都跑不出来\n",
    "import matplotlib.pyplot as plt\n",
    "img1 = x[1].squeeze().cpu().numpy()\n",
    "img2 = x[2].squeeze().cpu().numpy()\n",
    "img3 = x[3].squeeze().cpu().numpy()\n",
    "img4 = x[4].squeeze().cpu().numpy()\n",
    "img5 = x[5].squeeze().cpu().numpy()\n",
    "plt.figure()\n",
    "\n",
    "plt.subplot(1,5,1)\n",
    "plt.imshow(img1, cmap=\"gray\")\n",
    "plt.subplot(1,5,2)\n",
    "plt.imshow(img2, cmap=\"gray\")\n",
    "plt.subplot(1,5,3)\n",
    "plt.imshow(img3, cmap=\"gray\")\n",
    "plt.subplot(1,5,4)\n",
    "plt.imshow(img4, cmap=\"gray\")\n",
    "plt.subplot(1,5,5)\n",
    "plt.imshow(img5, cmap=\"gray\")\n",
    "plt.show()"
   ]
  },
  {
   "cell_type": "markdown",
   "metadata": {},
   "source": [
    "4. 搭建模型。我们搭建一个类似于 LeNet-5 的网络，结构如下："
   ]
  },
  {
   "cell_type": "markdown",
   "metadata": {},
   "source": [
    "![](https://pic1.zhimg.com/80/v2-82eabb4c17e90d467197d013f7629f3c_720w.jpg)"
   ]
  },
  {
   "cell_type": "markdown",
   "metadata": {},
   "source": [
    "我们需要创建2个卷积层、2个汇聚层（池化层）和2个全连接层，**暂时忽略所有的激活函数**。所有隐藏层的函数细节都可以在[官方文档](https://pytorch.org/docs/stable/nn.html)中按分类找到。每一个隐藏层本质上都是将一个数组变换成另一个数组的函数，因此为了确认编写的模型是正确的，可以先用一个小数据进行测试，观察输入和输出的维度。例如，我们先取出前10个观测，此时输入的维度是 `[10, 1, 28, 28]`："
   ]
  },
  {
   "cell_type": "code",
   "execution_count": 4,
   "metadata": {},
   "outputs": [
    {
     "name": "stdout",
     "output_type": "stream",
     "text": [
      "torch.Size([10, 1, 28, 28])\n",
      "torch.Size([10])\n"
     ]
    }
   ],
   "source": [
    "smallx = x[0:10]\n",
    "smally = y[0:10]\n",
    "print(smallx.shape)\n",
    "print(smally.shape)"
   ]
  },
  {
   "cell_type": "markdown",
   "metadata": {},
   "source": [
    "接下来创建第1个卷积层，并测试输出的维度。注意到我们可以直接将隐藏层当成一个函数来调用。"
   ]
  },
  {
   "cell_type": "code",
   "execution_count": 5,
   "metadata": {},
   "outputs": [
    {
     "name": "stdout",
     "output_type": "stream",
     "text": [
      "torch.Size([10, 20, 24, 24])\n"
     ]
    }
   ],
   "source": [
    "conv1 = torch.nn.Conv2d(in_channels=1, out_channels=20, kernel_size=5, stride=1)\n",
    "res = conv1(smallx)\n",
    "print(res.shape)"
   ]
  },
  {
   "cell_type": "markdown",
   "metadata": {},
   "source": [
    "可以看到，输出的维度为 `[20, 24, 24]`（不包括第1位的数据批次维度），与之前图中的结果吻合。"
   ]
  },
  {
   "cell_type": "markdown",
   "metadata": {},
   "source": [
    "接下来，请按照图中提示编写层对象 `pool1`、`conv2`、`pool2`、`fc1` 和 `fc2`，并顺次测试输入与输出的维度，使其与上图匹配。注意，在将一个大小为 `[10, 50, 4, 4]` 的数组（假设叫 `somearray`）传递给 `fc1` 之前，需要先将其变形为只有两个维度的数组，做法是 `somearray.view(-1, 50*4*4)`，其中 -1 表示该位置的大小不变。"
   ]
  },
  {
   "cell_type": "markdown",
   "metadata": {},
   "source": [
    "```py\n",
    "pool1 = ...\n",
    "res = pool1(res)\n",
    "print(res.shape)\n",
    "\n",
    "conv2 = ...\n",
    "res = conv2(res)\n",
    "print(res.shape)\n",
    "\n",
    "pool2 = ...\n",
    "res = pool2(res)\n",
    "print(res.shape)\n",
    "\n",
    "fc1 = ...\n",
    "res = fc1(res.view(-1, 50 * 4 * 4))\n",
    "print(res.shape)\n",
    "\n",
    "fc2 = ...\n",
    "res = fc2(res)\n",
    "print(res.shape)\n",
    "```"
   ]
  },
  {
   "cell_type": "code",
   "execution_count": 6,
   "metadata": {},
   "outputs": [
    {
     "name": "stdout",
     "output_type": "stream",
     "text": [
      "torch.Size([10, 20, 12, 12])\n"
     ]
    }
   ],
   "source": [
    "pool1 = torch.nn.MaxPool2d(kernel_size=2, stride=2)\n",
    "res = pool1(res)\n",
    "print(res.shape)"
   ]
  },
  {
   "cell_type": "code",
   "execution_count": 7,
   "metadata": {},
   "outputs": [
    {
     "name": "stdout",
     "output_type": "stream",
     "text": [
      "torch.Size([10, 50, 8, 8])\n"
     ]
    }
   ],
   "source": [
    "conv2 = torch.nn.Conv2d(in_channels=20, out_channels=50, kernel_size=5, stride=1)\n",
    "res = conv2(res)\n",
    "print(res.shape)"
   ]
  },
  {
   "cell_type": "code",
   "execution_count": 8,
   "metadata": {},
   "outputs": [
    {
     "name": "stdout",
     "output_type": "stream",
     "text": [
      "torch.Size([10, 50, 4, 4])\n"
     ]
    }
   ],
   "source": [
    "pool2 = torch.nn.MaxPool2d(kernel_size=2, stride=2)\n",
    "res = pool2(res)\n",
    "print(res.shape)"
   ]
  },
  {
   "cell_type": "code",
   "execution_count": 9,
   "metadata": {},
   "outputs": [
    {
     "name": "stdout",
     "output_type": "stream",
     "text": [
      "torch.Size([10, 800])\n"
     ]
    }
   ],
   "source": [
    "res = res.view(-1, 50*4*4)\n",
    "print(res.shape)"
   ]
  },
  {
   "cell_type": "code",
   "execution_count": 10,
   "metadata": {},
   "outputs": [
    {
     "name": "stdout",
     "output_type": "stream",
     "text": [
      "torch.Size([10, 500])\n"
     ]
    }
   ],
   "source": [
    "fc1 = torch.nn.Linear(50*4*4, 500)\n",
    "res = fc1(res)\n",
    "print(res.shape)"
   ]
  },
  {
   "cell_type": "code",
   "execution_count": 11,
   "metadata": {},
   "outputs": [
    {
     "name": "stdout",
     "output_type": "stream",
     "text": [
      "torch.Size([10, 10])\n"
     ]
    }
   ],
   "source": [
    "fc2 = torch.nn.Linear(500, 10)\n",
    "res = fc2(res)\n",
    "print(res.shape)"
   ]
  },
  {
   "cell_type": "markdown",
   "metadata": {},
   "source": [
    "5. 创建模型类。在确保隐藏层维度都正确后，将所有的隐藏层封装到一个模型类中，其中模型结构在 `__init__()` 中定义，具体的计算过程在 `forward()` 中实现。此时需要加入激活函数。在本模型中，**请在 `conv1`、`conv2` 和 `fc1` 后加入 ReLU 激活函数，并在 `fc2` 后加入 Softmax 激活函数**。"
   ]
  },
  {
   "cell_type": "markdown",
   "metadata": {},
   "source": [
    "```py\n",
    "class MyModel(torch.nn.Module):\n",
    "    def __init__(self):\n",
    "        super().__init__()\n",
    "        self.conv1 = ...\n",
    "        self.pool1 = ...\n",
    "        self.conv2 = ...\n",
    "        self.pool2 = ...\n",
    "        self.fc1 = ...\n",
    "        self.fc2 = ...\n",
    "\n",
    "    def forward(self, x):\n",
    "        x = self.conv1(x)\n",
    "        x = torch.relu(x)\n",
    "        x = self.pool1(x)\n",
    "        ...\n",
    "        return x\n",
    "```"
   ]
  },
  {
   "cell_type": "code",
   "execution_count": 12,
   "metadata": {},
   "outputs": [],
   "source": [
    "class MyModel(torch.nn.Module):\n",
    "    def __init__(self):\n",
    "        super().__init__()\n",
    "        self.conv1 = torch.nn.Conv2d(in_channels=1, out_channels=20, kernel_size=5, stride=1)\n",
    "        self.pool1 = torch.nn.MaxPool2d(2, stride=2)\n",
    "        self.conv2 = torch.nn.Conv2d(in_channels=20, out_channels=50, kernel_size=5, stride=1)\n",
    "        self.pool2 = torch.nn.MaxPool2d(2, stride=2)\n",
    "        self.fc1 = torch.nn.Linear(50*4*4, 500)\n",
    "        self.fc2 = torch.nn.Linear(500, 10)\n",
    "    \n",
    "    def forward(self, x):\n",
    "        x = self.conv1(x)\n",
    "        x = torch.nn.functional.relu(x)\n",
    "        x = self.pool1(x)\n",
    "        x = self.conv2(x)\n",
    "        x = torch.nn.functional.relu(x)\n",
    "        x = self.pool2(x)\n",
    "        x = x.view(-1, 50*4*4)\n",
    "        x = self.fc1(x)\n",
    "        x = torch.nn.functional.relu(x)\n",
    "        x = self.fc2(x)\n",
    "        x = torch.nn.functional.softmax(x, dim=1)\n",
    "        \n",
    "        return x"
   ]
  },
  {
   "cell_type": "markdown",
   "metadata": {},
   "source": [
    "再次测试输入输出的维度是否正确。如果模型编写正确，输出的维度应该是 `[10, 10]`，且输出结果为0到1之间的概率值。"
   ]
  },
  {
   "cell_type": "code",
   "execution_count": 13,
   "metadata": {},
   "outputs": [
    {
     "name": "stdout",
     "output_type": "stream",
     "text": [
      "torch.Size([10, 10])\n",
      "tensor([[0.0992, 0.0989, 0.0982, 0.1089, 0.0943, 0.0912, 0.0996, 0.1020, 0.1021,\n",
      "         0.1056],\n",
      "        [0.0997, 0.1004, 0.0978, 0.1085, 0.0938, 0.0907, 0.0982, 0.1045, 0.1020,\n",
      "         0.1045],\n",
      "        [0.0990, 0.0993, 0.0979, 0.1081, 0.0913, 0.0921, 0.0976, 0.1088, 0.1030,\n",
      "         0.1031],\n",
      "        [0.0955, 0.0996, 0.1010, 0.1081, 0.0931, 0.0913, 0.0988, 0.1044, 0.1031,\n",
      "         0.1051],\n",
      "        [0.0995, 0.0988, 0.0985, 0.1091, 0.0919, 0.0918, 0.0980, 0.1059, 0.1017,\n",
      "         0.1049],\n",
      "        [0.0977, 0.0994, 0.0996, 0.1073, 0.0924, 0.0922, 0.1018, 0.1019, 0.1040,\n",
      "         0.1038],\n",
      "        [0.0972, 0.1011, 0.1010, 0.1062, 0.0931, 0.0908, 0.1006, 0.1048, 0.1037,\n",
      "         0.1016],\n",
      "        [0.0996, 0.0984, 0.0987, 0.1068, 0.0904, 0.0900, 0.0992, 0.1076, 0.1020,\n",
      "         0.1075],\n",
      "        [0.0972, 0.0998, 0.1012, 0.1084, 0.0925, 0.0905, 0.1022, 0.1014, 0.1023,\n",
      "         0.1045],\n",
      "        [0.0979, 0.0998, 0.0985, 0.1080, 0.0959, 0.0910, 0.0979, 0.1049, 0.1027,\n",
      "         0.1033]], grad_fn=<SoftmaxBackward>)\n"
     ]
    }
   ],
   "source": [
    "np.random.seed(123)\n",
    "torch.manual_seed(123)\n",
    "\n",
    "model = MyModel()\n",
    "pred = model(smallx)\n",
    "print(pred.shape)\n",
    "print(pred)"
   ]
  },
  {
   "cell_type": "markdown",
   "metadata": {},
   "source": [
    "`pred` 的每一行加总为1，其中每一个元素代表对应类别的预测概率。"
   ]
  },
  {
   "cell_type": "markdown",
   "metadata": {},
   "source": [
    "我们还可以直接打印模型对象，观察隐藏层的结构："
   ]
  },
  {
   "cell_type": "code",
   "execution_count": 14,
   "metadata": {},
   "outputs": [
    {
     "name": "stdout",
     "output_type": "stream",
     "text": [
      "MyModel(\n",
      "  (conv1): Conv2d(1, 20, kernel_size=(5, 5), stride=(1, 1))\n",
      "  (pool1): MaxPool2d(kernel_size=2, stride=2, padding=0, dilation=1, ceil_mode=False)\n",
      "  (conv2): Conv2d(20, 50, kernel_size=(5, 5), stride=(1, 1))\n",
      "  (pool2): MaxPool2d(kernel_size=2, stride=2, padding=0, dilation=1, ceil_mode=False)\n",
      "  (fc1): Linear(in_features=800, out_features=500, bias=True)\n",
      "  (fc2): Linear(in_features=500, out_features=10, bias=True)\n",
      ")\n"
     ]
    }
   ],
   "source": [
    "print(model)"
   ]
  },
  {
   "cell_type": "markdown",
   "metadata": {},
   "source": [
    "6. 损失函数。对于分类问题，损失函数通常选取为负对数似然函数。在 PyTorch 中，可以使用 `torch.nn.NLLLoss` 来完成计算。其用法是先定义一个损失函数对象，然后在预测值和真实标签上调用该函数对象。注意：损失函数对象的第一个参数是预测概率的**对数值**，第二个参数是真实的标签。[文档说明](https://pytorch.org/docs/stable/generated/torch.nn.NLLLoss.html)。"
   ]
  },
  {
   "cell_type": "code",
   "execution_count": 15,
   "metadata": {},
   "outputs": [
    {
     "name": "stdout",
     "output_type": "stream",
     "text": [
      "2.323056221008301\n"
     ]
    }
   ],
   "source": [
    "lossfn = torch.nn.NLLLoss()\n",
    "loss = lossfn(torch.log(pred), smally)\n",
    "print(loss.item())"
   ]
  },
  {
   "cell_type": "markdown",
   "metadata": {},
   "source": [
    "7. 利用课上介绍的循环模板和代码示例，对模型进行迭代训练。对于本数据，选取 mini-batch 大小为200，共遍历数据10遍，优化器选为 Adam，学习率为0.001。"
   ]
  },
  {
   "cell_type": "code",
   "execution_count": 16,
   "metadata": {},
   "outputs": [],
   "source": [
    "# USE_CUDA = torch.cuda.is_available()\n",
    "USE_CUDA = False\n",
    "np.random.seed(123)\n",
    "torch.manual_seed(123)\n",
    "model = MyModel()\n",
    "if USE_CUDA:\n",
    "    torch.cuda.manual_seed(123)  \n",
    "if USE_CUDA:\n",
    "    model = model.cuda()\n",
    "    \n",
    "\n",
    "epochs = 10\n",
    "opt = torch.optim.Adam(model.parameters(), lr=0.001)"
   ]
  },
  {
   "cell_type": "code",
   "execution_count": 17,
   "metadata": {},
   "outputs": [
    {
     "name": "stdout",
     "output_type": "stream",
     "text": [
      "epoch 0, batch 0, loss = 2.3035948276519775\n",
      "epoch 0, batch 10, loss = 1.4207230806350708\n",
      "epoch 0, batch 20, loss = 0.5895281434059143\n",
      "epoch 0, batch 30, loss = 0.32067301869392395\n",
      "epoch 0, batch 40, loss = 0.4025203287601471\n",
      "epoch 0, batch 50, loss = 0.237248957157135\n",
      "epoch 0, batch 60, loss = 0.3056967258453369\n",
      "epoch 0, batch 70, loss = 0.18267740309238434\n",
      "epoch 0, batch 80, loss = 0.2878718078136444\n",
      "epoch 0, batch 90, loss = 0.2376011461019516\n",
      "epoch 0, batch 100, loss = 0.14671562612056732\n",
      "epoch 0, batch 110, loss = 0.2455405592918396\n",
      "epoch 0, batch 120, loss = 0.19403783977031708\n",
      "epoch 0, batch 130, loss = 0.11745459586381912\n",
      "epoch 0, batch 140, loss = 0.09421530365943909\n",
      "epoch 0, batch 150, loss = 0.12201116234064102\n",
      "epoch 0, batch 160, loss = 0.10544349998235703\n",
      "epoch 0, batch 170, loss = 0.15340441465377808\n",
      "epoch 0, batch 180, loss = 0.09472627937793732\n",
      "epoch 0, batch 190, loss = 0.14323243498802185\n",
      "epoch 0, batch 200, loss = 0.09068030118942261\n",
      "epoch 0, batch 210, loss = 0.07099581509828568\n",
      "epoch 0, batch 220, loss = 0.11171784996986389\n",
      "epoch 0, batch 230, loss = 0.10134264081716537\n",
      "epoch 0, batch 240, loss = 0.059056658297777176\n",
      "epoch 0, batch 250, loss = 0.0792105421423912\n",
      "epoch 0, batch 260, loss = 0.10662413388490677\n",
      "epoch 0, batch 270, loss = 0.07210805267095566\n",
      "epoch 0, batch 280, loss = 0.05564124137163162\n",
      "epoch 0, batch 290, loss = 0.04667775705456734\n",
      "epoch 1, batch 0, loss = 0.07405810803174973\n",
      "epoch 1, batch 10, loss = 0.08666685223579407\n",
      "epoch 1, batch 20, loss = 0.10368020832538605\n",
      "epoch 1, batch 30, loss = 0.061605267226696014\n",
      "epoch 1, batch 40, loss = 0.07884930819272995\n",
      "epoch 1, batch 50, loss = 0.08505848050117493\n",
      "epoch 1, batch 60, loss = 0.06158040091395378\n",
      "epoch 1, batch 70, loss = 0.06747674196958542\n",
      "epoch 1, batch 80, loss = 0.052424777299165726\n",
      "epoch 1, batch 90, loss = 0.09175951033830643\n",
      "epoch 1, batch 100, loss = 0.06715486198663712\n",
      "epoch 1, batch 110, loss = 0.046458106487989426\n",
      "epoch 1, batch 120, loss = 0.036543916910886765\n",
      "epoch 1, batch 130, loss = 0.057819146662950516\n",
      "epoch 1, batch 140, loss = 0.07650154083967209\n",
      "epoch 1, batch 150, loss = 0.04685167223215103\n",
      "epoch 1, batch 160, loss = 0.08586504310369492\n",
      "epoch 1, batch 170, loss = 0.06488585472106934\n",
      "epoch 1, batch 180, loss = 0.06932927668094635\n",
      "epoch 1, batch 190, loss = 0.032024532556533813\n",
      "epoch 1, batch 200, loss = 0.01753159798681736\n",
      "epoch 1, batch 210, loss = 0.1425270140171051\n",
      "epoch 1, batch 220, loss = 0.07217375934123993\n",
      "epoch 1, batch 230, loss = 0.0855318009853363\n",
      "epoch 1, batch 240, loss = 0.046305421739816666\n",
      "epoch 1, batch 250, loss = 0.09288042783737183\n",
      "epoch 1, batch 260, loss = 0.07402461022138596\n",
      "epoch 1, batch 270, loss = 0.0622183233499527\n",
      "epoch 1, batch 280, loss = 0.036515939980745316\n",
      "epoch 1, batch 290, loss = 0.07501909881830215\n",
      "epoch 2, batch 0, loss = 0.03997079282999039\n",
      "epoch 2, batch 10, loss = 0.01931610144674778\n",
      "epoch 2, batch 20, loss = 0.022420313209295273\n",
      "epoch 2, batch 30, loss = 0.033851224929094315\n",
      "epoch 2, batch 40, loss = 0.06754991412162781\n",
      "epoch 2, batch 50, loss = 0.05763881653547287\n",
      "epoch 2, batch 60, loss = 0.07205475121736526\n",
      "epoch 2, batch 70, loss = 0.08505674451589584\n",
      "epoch 2, batch 80, loss = 0.05196899548172951\n",
      "epoch 2, batch 90, loss = 0.0344540998339653\n",
      "epoch 2, batch 100, loss = 0.01632503792643547\n",
      "epoch 2, batch 110, loss = 0.03283290937542915\n",
      "epoch 2, batch 120, loss = 0.026613211259245872\n",
      "epoch 2, batch 130, loss = 0.051677532494068146\n",
      "epoch 2, batch 140, loss = 0.05297965183854103\n",
      "epoch 2, batch 150, loss = 0.042586278170347214\n",
      "epoch 2, batch 160, loss = 0.06434536725282669\n",
      "epoch 2, batch 170, loss = 0.015668407082557678\n",
      "epoch 2, batch 180, loss = 0.047300294041633606\n",
      "epoch 2, batch 190, loss = 0.07216949015855789\n",
      "epoch 2, batch 200, loss = 0.020090211182832718\n",
      "epoch 2, batch 210, loss = 0.011224362999200821\n",
      "epoch 2, batch 220, loss = 0.015073060058057308\n",
      "epoch 2, batch 230, loss = 0.054770804941654205\n",
      "epoch 2, batch 240, loss = 0.04563659057021141\n",
      "epoch 2, batch 250, loss = 0.04176722839474678\n",
      "epoch 2, batch 260, loss = 0.021384960040450096\n",
      "epoch 2, batch 270, loss = 0.0540875643491745\n",
      "epoch 2, batch 280, loss = 0.03298071399331093\n",
      "epoch 2, batch 290, loss = 0.12484581023454666\n",
      "epoch 3, batch 0, loss = 0.014636673964560032\n",
      "epoch 3, batch 10, loss = 0.010139287449419498\n",
      "epoch 3, batch 20, loss = 0.01397253479808569\n",
      "epoch 3, batch 30, loss = 0.03580522909760475\n",
      "epoch 3, batch 40, loss = 0.02829165756702423\n",
      "epoch 3, batch 50, loss = 0.013030728325247765\n",
      "epoch 3, batch 60, loss = 0.07831961661577225\n",
      "epoch 3, batch 70, loss = 0.012568563222885132\n",
      "epoch 3, batch 80, loss = 0.015158477239310741\n",
      "epoch 3, batch 90, loss = 0.03470566123723984\n",
      "epoch 3, batch 100, loss = 0.06844273209571838\n",
      "epoch 3, batch 110, loss = 0.058161139488220215\n",
      "epoch 3, batch 120, loss = 0.05139734596014023\n",
      "epoch 3, batch 130, loss = 0.05297110229730606\n",
      "epoch 3, batch 140, loss = 0.013034721836447716\n",
      "epoch 3, batch 150, loss = 0.05221765860915184\n",
      "epoch 3, batch 160, loss = 0.00967363640666008\n",
      "epoch 3, batch 170, loss = 0.07368119060993195\n",
      "epoch 3, batch 180, loss = 0.03669797256588936\n",
      "epoch 3, batch 190, loss = 0.027293886989355087\n",
      "epoch 3, batch 200, loss = 0.13867072761058807\n",
      "epoch 3, batch 210, loss = 0.037325598299503326\n",
      "epoch 3, batch 220, loss = 0.017391331493854523\n",
      "epoch 3, batch 230, loss = 0.012551367282867432\n",
      "epoch 3, batch 240, loss = 0.013930121436715126\n",
      "epoch 3, batch 250, loss = 0.03837648034095764\n",
      "epoch 3, batch 260, loss = 0.07727806270122528\n",
      "epoch 3, batch 270, loss = 0.049244269728660583\n",
      "epoch 3, batch 280, loss = 0.006320022512227297\n",
      "epoch 3, batch 290, loss = 0.05947154015302658\n",
      "epoch 4, batch 0, loss = 0.038071006536483765\n",
      "epoch 4, batch 10, loss = 0.02291599102318287\n",
      "epoch 4, batch 20, loss = 0.030008122324943542\n",
      "epoch 4, batch 30, loss = 0.009129341691732407\n",
      "epoch 4, batch 40, loss = 0.008070719428360462\n",
      "epoch 4, batch 50, loss = 0.008609270676970482\n",
      "epoch 4, batch 60, loss = 0.016767101362347603\n",
      "epoch 4, batch 70, loss = 0.009168998338282108\n",
      "epoch 4, batch 80, loss = 0.05503542721271515\n",
      "epoch 4, batch 90, loss = 0.026326751336455345\n",
      "epoch 4, batch 100, loss = 0.036600492894649506\n",
      "epoch 4, batch 110, loss = 0.02782493270933628\n",
      "epoch 4, batch 120, loss = 0.01549805048853159\n",
      "epoch 4, batch 130, loss = 0.012580872513353825\n",
      "epoch 4, batch 140, loss = 0.013779920525848866\n",
      "epoch 4, batch 150, loss = 0.00421824911609292\n",
      "epoch 4, batch 160, loss = 0.04431987181305885\n",
      "epoch 4, batch 170, loss = 0.013078004121780396\n",
      "epoch 4, batch 180, loss = 0.015934469178318977\n",
      "epoch 4, batch 190, loss = 0.019726237282156944\n",
      "epoch 4, batch 200, loss = 0.01730591244995594\n",
      "epoch 4, batch 210, loss = 0.0073693739250302315\n",
      "epoch 4, batch 220, loss = 0.04294852912425995\n",
      "epoch 4, batch 230, loss = 0.027369573712348938\n",
      "epoch 4, batch 240, loss = 0.023930132389068604\n",
      "epoch 4, batch 250, loss = 0.045184578746557236\n",
      "epoch 4, batch 260, loss = 0.04173904284834862\n",
      "epoch 4, batch 270, loss = 0.015959372743964195\n",
      "epoch 4, batch 280, loss = 0.021887976676225662\n",
      "epoch 4, batch 290, loss = 0.011207780800759792\n",
      "epoch 5, batch 0, loss = 0.020719585940241814\n",
      "epoch 5, batch 10, loss = 0.0037267161533236504\n",
      "epoch 5, batch 20, loss = 0.0031753776129335165\n",
      "epoch 5, batch 30, loss = 0.004461726173758507\n",
      "epoch 5, batch 40, loss = 0.014273816719651222\n",
      "epoch 5, batch 50, loss = 0.04832948371767998\n",
      "epoch 5, batch 60, loss = 0.01852826029062271\n",
      "epoch 5, batch 70, loss = 0.03395453467965126\n",
      "epoch 5, batch 80, loss = 0.028307149186730385\n",
      "epoch 5, batch 90, loss = 0.022853786125779152\n",
      "epoch 5, batch 100, loss = 0.006503470707684755\n",
      "epoch 5, batch 110, loss = 0.009018379263579845\n",
      "epoch 5, batch 120, loss = 0.006181620992720127\n",
      "epoch 5, batch 130, loss = 0.007262693718075752\n",
      "epoch 5, batch 140, loss = 0.019925910979509354\n",
      "epoch 5, batch 150, loss = 0.006428847089409828\n",
      "epoch 5, batch 160, loss = 0.015974070876836777\n",
      "epoch 5, batch 170, loss = 0.011557814665138721\n",
      "epoch 5, batch 180, loss = 0.02332477644085884\n",
      "epoch 5, batch 190, loss = 0.0342191681265831\n",
      "epoch 5, batch 200, loss = 0.041594795882701874\n",
      "epoch 5, batch 210, loss = 0.010552879422903061\n",
      "epoch 5, batch 220, loss = 0.030778730288147926\n",
      "epoch 5, batch 230, loss = 0.02100975066423416\n",
      "epoch 5, batch 240, loss = 0.01247360184788704\n",
      "epoch 5, batch 250, loss = 0.00618350226432085\n",
      "epoch 5, batch 260, loss = 0.002852559322491288\n",
      "epoch 5, batch 270, loss = 0.08437160402536392\n",
      "epoch 5, batch 280, loss = 0.056349512189626694\n",
      "epoch 5, batch 290, loss = 0.017392875626683235\n",
      "epoch 6, batch 0, loss = 0.002151043154299259\n",
      "epoch 6, batch 10, loss = 0.02165919356048107\n",
      "epoch 6, batch 20, loss = 0.0077382540330290794\n",
      "epoch 6, batch 30, loss = 0.007216703146696091\n",
      "epoch 6, batch 40, loss = 0.005925602745264769\n",
      "epoch 6, batch 50, loss = 0.018836205825209618\n",
      "epoch 6, batch 60, loss = 0.013171345926821232\n",
      "epoch 6, batch 70, loss = 0.01471011247485876\n",
      "epoch 6, batch 80, loss = 0.006624539382755756\n",
      "epoch 6, batch 90, loss = 0.006036204285919666\n",
      "epoch 6, batch 100, loss = 0.047812320291996\n",
      "epoch 6, batch 110, loss = 0.008769772946834564\n",
      "epoch 6, batch 120, loss = 0.009687901474535465\n",
      "epoch 6, batch 130, loss = 0.0016112725716084242\n",
      "epoch 6, batch 140, loss = 0.008721751160919666\n",
      "epoch 6, batch 150, loss = 0.014414876699447632\n",
      "epoch 6, batch 160, loss = 0.017001761123538017\n",
      "epoch 6, batch 170, loss = 0.012552017346024513\n",
      "epoch 6, batch 180, loss = 0.004255066625773907\n",
      "epoch 6, batch 190, loss = 0.0387188158929348\n",
      "epoch 6, batch 200, loss = 0.0071315038949251175\n",
      "epoch 6, batch 210, loss = 0.010937826707959175\n",
      "epoch 6, batch 220, loss = 0.007706871256232262\n",
      "epoch 6, batch 230, loss = 0.028676722198724747\n",
      "epoch 6, batch 240, loss = 0.0036224538926035166\n",
      "epoch 6, batch 250, loss = 0.024768464267253876\n",
      "epoch 6, batch 260, loss = 0.012070263735949993\n",
      "epoch 6, batch 270, loss = 0.02181483991444111\n",
      "epoch 6, batch 280, loss = 0.008198260329663754\n",
      "epoch 6, batch 290, loss = 0.01917206309735775\n",
      "epoch 7, batch 0, loss = 0.02054082788527012\n",
      "epoch 7, batch 10, loss = 0.013725447468459606\n",
      "epoch 7, batch 20, loss = 0.007085865363478661\n",
      "epoch 7, batch 30, loss = 0.007671522442251444\n",
      "epoch 7, batch 40, loss = 0.006519374903291464\n",
      "epoch 7, batch 50, loss = 0.033358823508024216\n",
      "epoch 7, batch 60, loss = 0.01685291714966297\n",
      "epoch 7, batch 70, loss = 0.051798004657030106\n",
      "epoch 7, batch 80, loss = 0.0063198464922606945\n",
      "epoch 7, batch 90, loss = 0.022525984793901443\n",
      "epoch 7, batch 100, loss = 0.06319530308246613\n",
      "epoch 7, batch 110, loss = 0.032620467245578766\n",
      "epoch 7, batch 120, loss = 0.026971321552991867\n",
      "epoch 7, batch 130, loss = 0.020718207582831383\n",
      "epoch 7, batch 140, loss = 0.0020911453757435083\n",
      "epoch 7, batch 150, loss = 0.06725400686264038\n",
      "epoch 7, batch 160, loss = 0.003765815868973732\n",
      "epoch 7, batch 170, loss = 0.018930334597826004\n",
      "epoch 7, batch 180, loss = 0.017765242606401443\n",
      "epoch 7, batch 190, loss = 0.007815742865204811\n",
      "epoch 7, batch 200, loss = 0.021732212975621223\n",
      "epoch 7, batch 210, loss = 0.011699569411575794\n",
      "epoch 7, batch 220, loss = 0.01888645812869072\n",
      "epoch 7, batch 230, loss = 0.0029677841812372208\n",
      "epoch 7, batch 240, loss = 0.011574569158256054\n",
      "epoch 7, batch 250, loss = 0.007717551197856665\n",
      "epoch 7, batch 260, loss = 0.003862603334710002\n",
      "epoch 7, batch 270, loss = 0.005495042074471712\n",
      "epoch 7, batch 280, loss = 0.002788879908621311\n",
      "epoch 7, batch 290, loss = 0.004038780461996794\n",
      "epoch 8, batch 0, loss = 0.00812852755188942\n",
      "epoch 8, batch 10, loss = 0.00926963984966278\n",
      "epoch 8, batch 20, loss = 0.008831215091049671\n",
      "epoch 8, batch 30, loss = 0.01364386547356844\n",
      "epoch 8, batch 40, loss = 0.025331959128379822\n",
      "epoch 8, batch 50, loss = 0.002838479820638895\n",
      "epoch 8, batch 60, loss = 0.0020733089186251163\n",
      "epoch 8, batch 70, loss = 0.08013853430747986\n",
      "epoch 8, batch 80, loss = 0.01390205416828394\n",
      "epoch 8, batch 90, loss = 0.037235938012599945\n",
      "epoch 8, batch 100, loss = 0.016355762258172035\n",
      "epoch 8, batch 110, loss = 0.005184869281947613\n",
      "epoch 8, batch 120, loss = 0.008152625523507595\n",
      "epoch 8, batch 130, loss = 0.009442583657801151\n",
      "epoch 8, batch 140, loss = 0.018705621361732483\n",
      "epoch 8, batch 150, loss = 0.002148396335542202\n",
      "epoch 8, batch 160, loss = 0.0024105270858854055\n",
      "epoch 8, batch 170, loss = 0.0023002121597528458\n",
      "epoch 8, batch 180, loss = 0.009118269197642803\n",
      "epoch 8, batch 190, loss = 0.0017851580632850528\n",
      "epoch 8, batch 200, loss = 0.0040502301417291164\n",
      "epoch 8, batch 210, loss = 0.01721673645079136\n",
      "epoch 8, batch 220, loss = 0.021379223093390465\n",
      "epoch 8, batch 230, loss = 0.0020447312854230404\n",
      "epoch 8, batch 240, loss = 0.005690224934369326\n",
      "epoch 8, batch 250, loss = 0.002546830801293254\n",
      "epoch 8, batch 260, loss = 0.0074975998140871525\n",
      "epoch 8, batch 270, loss = 0.0030476038809865713\n",
      "epoch 8, batch 280, loss = 0.016148552298545837\n",
      "epoch 8, batch 290, loss = 0.05101989582180977\n",
      "epoch 9, batch 0, loss = 0.009408264420926571\n",
      "epoch 9, batch 10, loss = 0.0015724716940894723\n",
      "epoch 9, batch 20, loss = 0.009039171040058136\n",
      "epoch 9, batch 30, loss = 0.007869178429245949\n",
      "epoch 9, batch 40, loss = 0.02460254728794098\n",
      "epoch 9, batch 50, loss = 0.0014159813290461898\n",
      "epoch 9, batch 60, loss = 0.003926033154129982\n",
      "epoch 9, batch 70, loss = 0.0011756549356505275\n",
      "epoch 9, batch 80, loss = 0.01263827458024025\n",
      "epoch 9, batch 90, loss = 0.014350936748087406\n",
      "epoch 9, batch 100, loss = 0.01406536903232336\n",
      "epoch 9, batch 110, loss = 0.01889580674469471\n",
      "epoch 9, batch 120, loss = 0.004437969997525215\n",
      "epoch 9, batch 130, loss = 0.012523702345788479\n",
      "epoch 9, batch 140, loss = 0.005173663608729839\n",
      "epoch 9, batch 150, loss = 0.0115218386054039\n",
      "epoch 9, batch 160, loss = 0.0035226906184107065\n",
      "epoch 9, batch 170, loss = 0.00016443659842479974\n",
      "epoch 9, batch 180, loss = 0.00221803761087358\n",
      "epoch 9, batch 190, loss = 0.0069387792609632015\n",
      "epoch 9, batch 200, loss = 0.00294705294072628\n",
      "epoch 9, batch 210, loss = 0.004492562264204025\n",
      "epoch 9, batch 220, loss = 0.002208632417023182\n",
      "epoch 9, batch 230, loss = 0.0005640395684167743\n",
      "epoch 9, batch 240, loss = 0.019022366032004356\n",
      "epoch 9, batch 250, loss = 0.0004916231846436858\n",
      "epoch 9, batch 260, loss = 0.009155338630080223\n",
      "epoch 9, batch 270, loss = 0.02543972246348858\n",
      "epoch 9, batch 280, loss = 0.007412725128233433\n",
      "epoch 9, batch 290, loss = 0.007047825027257204\n"
     ]
    }
   ],
   "source": [
    "for epoch in range(epochs):\n",
    "    c = 0\n",
    "    for batch, (mini_batch_x, mini_batch_y) in enumerate(loader):\n",
    "        \n",
    "        if USE_CUDA:\n",
    "            mini_batch_x = mini_batch_x.cuda()\n",
    "            mini_batch_y = mini_batch_y.cuda()\n",
    "        pred = model(mini_batch_x)\n",
    "        lossfn = torch.nn.NLLLoss()\n",
    "        loss = lossfn(torch.log(pred), mini_batch_y)\n",
    "        opt.zero_grad()\n",
    "        loss.backward()\n",
    "        opt.step()\n",
    "        if c % 10 == 0:\n",
    "            print(f\"epoch {epoch}, batch {batch}, loss = {loss.cpu().item()}\")\n",
    "        c = c + 1"
   ]
  },
  {
   "cell_type": "markdown",
   "metadata": {},
   "source": [
    "为了验证模型的效果，我们对前10个观测（即之前生成的 `smallx` 和 `smally`）进行预测。"
   ]
  },
  {
   "cell_type": "code",
   "execution_count": 18,
   "metadata": {},
   "outputs": [
    {
     "name": "stdout",
     "output_type": "stream",
     "text": [
      "[7 4 5 4 0 7 1 0 7 4]\n",
      "tensor([7, 4, 5, 4, 0, 7, 1, 0, 7, 4])\n"
     ]
    }
   ],
   "source": [
    "if USE_CUDA:\n",
    "    smallx = smallx.cuda()\n",
    "ypred = model(smallx)\n",
    "print(np.round(ypred.detach().cpu().numpy(), 3).argmax(axis=1))\n",
    "print(smally)"
   ]
  },
  {
   "cell_type": "markdown",
   "metadata": {},
   "source": [
    "如果模型搭建和训练都正常，那么每一行中概率最大的取值所在的位置应该正好对应真实的标签。"
   ]
  },
  {
   "cell_type": "markdown",
   "metadata": {},
   "source": [
    "最后，我们用模型对一些真实的手写数字图片进行预测。请你利用绘图软件（如 Windows 自带的绘图，或 Photoshop 等）准备10张正方形黑色底色的图片，每张用鼠标绘制一个数字（请使用较粗的笔划），从0到9，然后以0.png，1.png等文件名存储下来，放到当前目录一个名为 digits 的文件夹中。以下是几个例子：\n",
    "![](digits/sample0.png) ![](digits/sample5.png) ![](digits/sample8.png)"
   ]
  },
  {
   "cell_type": "markdown",
   "metadata": {},
   "source": [
    "接下来利用 Pillow 软件包读取图片："
   ]
  },
  {
   "cell_type": "code",
   "execution_count": 19,
   "metadata": {
    "scrolled": true
   },
   "outputs": [
    {
     "data": {
      "image/png": "[encoded data removed]",
      "text/plain": [
       "<PIL.PngImagePlugin.PngImageFile image mode=RGB size=261x261 at 0x1C4D437BE50>"
      ]
     },
     "execution_count": 19,
     "metadata": {},
     "output_type": "execute_result"
    }
   ],
   "source": [
    "from PIL import Image\n",
    "im = Image.open(\"digits/sample0.png\")\n",
    "im"
   ]
  },
  {
   "cell_type": "markdown",
   "metadata": {},
   "source": [
    "此时如果直接将其转为 Numpy 数组会得到三个通道："
   ]
  },
  {
   "cell_type": "code",
   "execution_count": 20,
   "metadata": {},
   "outputs": [
    {
     "name": "stdout",
     "output_type": "stream",
     "text": [
      "(261, 261, 3)\n"
     ]
    }
   ],
   "source": [
    "im_arr = np.array(im)\n",
    "print(im_arr.shape)"
   ]
  },
  {
   "cell_type": "markdown",
   "metadata": {},
   "source": [
    "因此，我们先强制转换为灰度图片（单通道），再缩放至模型的图片大小 28 x 28："
   ]
  },
  {
   "cell_type": "code",
   "execution_count": 21,
   "metadata": {},
   "outputs": [
    {
     "name": "stdout",
     "output_type": "stream",
     "text": [
      "(28, 28)\n"
     ]
    },
    {
     "data": {
      "image/png": "[encoded data removed]",
      "text/plain": [
       "<PIL.Image.Image image mode=L size=28x28 at 0x1C4DBC909D0>"
      ]
     },
     "execution_count": 21,
     "metadata": {},
     "output_type": "execute_result"
    }
   ],
   "source": [
    "im = im.convert(\"L\")\n",
    "im.thumbnail((28, 28))\n",
    "im_arr = np.array(im)\n",
    "print(im_arr.shape)\n",
    "im"
   ]
  },
  {
   "cell_type": "markdown",
   "metadata": {},
   "source": [
    "为了传递给模型对象，还需要先将数值归一化到 [0,1] 区间，转换为 PyTorch 的 Tensor 类型，并增加一个批次和一个通道的维度："
   ]
  },
  {
   "cell_type": "code",
   "execution_count": 22,
   "metadata": {},
   "outputs": [
    {
     "name": "stdout",
     "output_type": "stream",
     "text": [
      "torch.Size([1, 1, 28, 28])\n"
     ]
    }
   ],
   "source": [
    "test0 = torch.tensor(im_arr / 255.0, dtype=torch.float32).view(1, 1, 28, 28)\n",
    "print(test0.shape)"
   ]
  },
  {
   "cell_type": "markdown",
   "metadata": {},
   "source": [
    "最后对图片标签进行预测："
   ]
  },
  {
   "cell_type": "code",
   "execution_count": 23,
   "metadata": {},
   "outputs": [
    {
     "name": "stdout",
     "output_type": "stream",
     "text": [
      "[[0.887 0.    0.015 0.    0.    0.    0.019 0.    0.    0.078]]\n"
     ]
    }
   ],
   "source": [
    "pred0 = model(test0)\n",
    "print(np.round(pred0.detach().cpu().numpy(), 3))"
   ]
  },
  {
   "cell_type": "markdown",
   "metadata": {},
   "source": [
    "预测结果是否符合真实情形？请对你自己绘制出的10张图片进行类似的预测操作，并评价其效果。"
   ]
  },
  {
   "cell_type": "code",
   "execution_count": 24,
   "metadata": {},
   "outputs": [],
   "source": [
    "def predict(char):\n",
    "    im = Image.open(\"digits/\"+char+\".png\")\n",
    "    im = im.convert(\"L\")\n",
    "    im.thumbnail((28, 28))\n",
    "    im_arr = np.array(im)\n",
    "    test0 = torch.tensor(im_arr / 255.0, dtype=torch.float32).view(1, 1, 28, 28)\n",
    "    if USE_CUDA:\n",
    "        test0 = test0.cuda()\n",
    "    pred0 = model(test0)\n",
    "    return np.round(pred0.detach().cpu().numpy(), 3).argmax()"
   ]
  },
  {
   "cell_type": "markdown",
   "metadata": {},
   "source": [
    "读不了图片会报错"
   ]
  },
  {
   "cell_type": "markdown",
   "metadata": {},
   "source": [
    "### 第2题"
   ]
  },
  {
   "cell_type": "markdown",
   "metadata": {},
   "source": [
    "1. 目标：通过对英文名数据进行训练，构建一个 RNN 模型，实现英文名的自动生成。"
   ]
  },
  {
   "cell_type": "markdown",
   "metadata": {},
   "source": [
    "2. 主要步骤：获取和整理数据，对字符串进行 one-hot 编码，创建模型结构，定义损失函数，编写训练循环，最后生成人名字符串。"
   ]
  },
  {
   "cell_type": "markdown",
   "metadata": {},
   "source": [
    "3. 获取和整理数据。数据文件已存为 `data/names.txt`，先将其读取为字符串列表："
   ]
  },
  {
   "cell_type": "code",
   "execution_count": 8,
   "metadata": {},
   "outputs": [
    {
     "name": "stdout",
     "output_type": "stream",
     "text": [
      "3668\n",
      "['Abbas', 'Abbey', 'Abbott', 'Abdi', 'Abel']\n"
     ]
    }
   ],
   "source": [
    "import io\n",
    "lines = io.open(\"data/names.txt\").read().strip().split('\\n')\n",
    "print(len(lines))\n",
    "print(lines[0:5])"
   ]
  },
  {
   "cell_type": "markdown",
   "metadata": {},
   "source": [
    "可以看出，共读取了3668个名字。为了简单起见，我们将所有的大写字母转换为小写。"
   ]
  },
  {
   "cell_type": "code",
   "execution_count": 9,
   "metadata": {},
   "outputs": [
    {
     "name": "stdout",
     "output_type": "stream",
     "text": [
      "['abbas', 'abbey', 'abbott', 'abdi', 'abel']\n"
     ]
    }
   ],
   "source": [
    "names = [s.lower() for s in lines]\n",
    "print(names[0:5])"
   ]
  },
  {
   "cell_type": "markdown",
   "metadata": {},
   "source": [
    "接下来我们需要构建一个字符的字典。对于英文名来说很简单，即26个字母。我们可以通过下面的代码直接得到。"
   ]
  },
  {
   "cell_type": "code",
   "execution_count": 10,
   "metadata": {},
   "outputs": [
    {
     "data": {
      "text/plain": [
       "'abcdefghijklmnopqrstuvwxyz'"
      ]
     },
     "execution_count": 10,
     "metadata": {},
     "output_type": "execute_result"
    }
   ],
   "source": [
    "import string\n",
    "dict = string.ascii_lowercase\n",
    "dict"
   ]
  },
  {
   "cell_type": "markdown",
   "metadata": {},
   "source": [
    "4. 下面准备好 one-hot 编码所需的函数。编写函数 `char2index(char)`，将一个字母转换为其所在字典的位置。例如 `char2index(\"a\")` 要返回0，`char2index(\"z\")` 要返回25，等等。提示：使用字符串的 `.find()` 函数。"
   ]
  },
  {
   "cell_type": "code",
   "execution_count": 11,
   "metadata": {},
   "outputs": [
    {
     "name": "stdout",
     "output_type": "stream",
     "text": [
      "True\n"
     ]
    }
   ],
   "source": [
    "def char2index(char):\n",
    "    # Implementation here\n",
    "    o_h = [x for x in dict]\n",
    "    return o_h.index(char)\n",
    "print(char2index(\"z\") == 25)"
   ]
  },
  {
   "cell_type": "markdown",
   "metadata": {},
   "source": [
    "编写 `char2tensor(char)` 函数，将一个字母转换为 one-hot 向量，即该向量中第 i 个元素为1，其余为0，其中 i 表示该字母在字典中的位置。\n",
    "\n",
    "**注意，该向量的长度应为27，因为我们要预留终止符，用 `[0.0, 0.0, ..., 1.0]` 表示**。\n",
    "\n",
    "`char2tensor(\"a\")` 应返回 `torch.tensor([1.0, 0.0, ...])`，`char2tensor(\"z\")` 应返回 `torch.tensor([0.0, ..., 1.0, 0.0])`。"
   ]
  },
  {
   "cell_type": "code",
   "execution_count": 12,
   "metadata": {},
   "outputs": [
    {
     "name": "stdout",
     "output_type": "stream",
     "text": [
      "tensor([1., 0., 0., 0., 0., 0., 0., 0., 0., 0., 0., 0., 0., 0., 0., 0., 0., 0.,\n",
      "        0., 0., 0., 0., 0., 0., 0., 0., 0.])\n",
      "tensor([0., 0., 0., 0., 0., 0., 0., 0., 0., 0., 0., 0., 0., 0., 0., 0., 0., 0.,\n",
      "        0., 0., 0., 0., 0., 0., 0., 1., 0.])\n",
      "True\n"
     ]
    }
   ],
   "source": [
    "def char2tensor(char):\n",
    "    # Implementation here\n",
    "    i = char2index(char)\n",
    "    res = torch.zeros(27)\n",
    "    res[i] = 1\n",
    "    return res\n",
    "\n",
    "print(char2tensor(\"a\"))\n",
    "print(char2tensor(\"z\"))\n",
    "print(char2tensor(\"z\").shape[0] == 27)"
   ]
  },
  {
   "cell_type": "markdown",
   "metadata": {},
   "source": [
    "5. 构建模型。我们使用最简单的 RNN 结构，即隐藏单元是输入和上一期隐藏单元的线性变换加上 Tanh 激活函数，输出单元是隐藏单元的线性变换加上 Softmax 激活函数。输出的结果代表下一个字符的概率分布。"
   ]
  },
  {
   "cell_type": "markdown",
   "metadata": {},
   "source": [
    "```py\n",
    "class RNN(torch.nn.Module):\n",
    "    def __init__(self, input_size, hidden_size):\n",
    "        super(RNN, self).__init__()\n",
    "        self.hidden_size = hidden_size\n",
    "        self.i2h = ...\n",
    "        self.h2o = ...\n",
    "\n",
    "    def forward(self, input, hidden):\n",
    "        combined = torch.cat((input, hidden), dim=1)\n",
    "        hidden = torch.tanh(self.i2h(combined))\n",
    "        output = torch.nn.functional.softmax(self.h2o(hidden), dim=1)\n",
    "        return output, hidden\n",
    "\n",
    "    def init_hidden(self):\n",
    "        return torch.zeros(1, self.hidden_size)\n",
    "```"
   ]
  },
  {
   "cell_type": "code",
   "execution_count": 13,
   "metadata": {},
   "outputs": [],
   "source": [
    "import torch.nn.functional as F\n",
    "class RNN(torch.nn.Module):\n",
    "    def __init__(self, input_size, hidden_size):\n",
    "        super(RNN, self).__init__()\n",
    "        self.hidden_size = hidden_size\n",
    "        self.i2h = torch.nn.Linear(input_size + hidden_size, hidden_size)\n",
    "        self.h2o = torch.nn.Linear(hidden_size, 27)\n",
    "\n",
    "    def forward(self, input, hidden):\n",
    "        combined = torch.cat((input, hidden), dim=1)\n",
    "        hidden = torch.tanh(self.i2h(combined))\n",
    "        output = F.softmax(self.h2o(hidden), dim=1)\n",
    "        return output, hidden\n",
    "\n",
    "    def init_hidden(self):\n",
    "        return torch.zeros(1, self.hidden_size)"
   ]
  },
  {
   "cell_type": "markdown",
   "metadata": {},
   "source": [
    "我们做一个简单的测试。请在下面的代码中加入适当的语句，使得每次运行的结果不变。根据其输出结果，请问当前模型预测字符a的下一个字符是什么？为什么？"
   ]
  },
  {
   "cell_type": "code",
   "execution_count": 14,
   "metadata": {},
   "outputs": [
    {
     "name": "stdout",
     "output_type": "stream",
     "text": [
      "tensor([[0.0290, 0.0327, 0.0320, 0.0354, 0.0432, 0.0395, 0.0417, 0.0371, 0.0409,\n",
      "         0.0275, 0.0328, 0.0359, 0.0373, 0.0391, 0.0339, 0.0366, 0.0430, 0.0364,\n",
      "         0.0472, 0.0435, 0.0376, 0.0327, 0.0418, 0.0370, 0.0279, 0.0426, 0.0357]],\n",
      "       grad_fn=<SoftmaxBackward>)\n"
     ]
    }
   ],
   "source": [
    "batch_size = 100\n",
    "rnn = RNN(input_size=27, hidden_size=10)\n",
    "input = char2tensor(\"a\")\n",
    "hidden = rnn.init_hidden()\n",
    "output, hidden = rnn(input.view(1, 27), hidden)\n",
    "print(output)\n",
    "#下一个字符是s 因为输出中的值最大"
   ]
  },
  {
   "cell_type": "markdown",
   "metadata": {},
   "source": [
    "6. 接下来我们定义好损失函数。与第1题中类似，预测值是一个概率分布，而真实的标签是0到26中的一个整数，代表真实的下一个字符在字典中的位置。假设当前处理的名字为\"abel\"，那么字符a的输出结果对应的标签是什么？请完成下面的代码。"
   ]
  },
  {
   "cell_type": "code",
   "execution_count": 15,
   "metadata": {
    "scrolled": true
   },
   "outputs": [
    {
     "name": "stdout",
     "output_type": "stream",
     "text": [
      "tensor(3.4199, grad_fn=<NllLossBackward>)\n"
     ]
    }
   ],
   "source": [
    "# Change \"target\" to a proper value\n",
    "target = char2index('b')\n",
    "\n",
    "lossfn = torch.nn.NLLLoss()\n",
    "loss = lossfn(torch.log(output), torch.tensor([target]))\n",
    "print(loss)"
   ]
  },
  {
   "cell_type": "markdown",
   "metadata": {},
   "source": [
    "7. 明确单个字符的损失函数的计算方法后，请在下面计算出\"abel\"这个观测整体的损失函数值。"
   ]
  },
  {
   "cell_type": "code",
   "execution_count": 16,
   "metadata": {},
   "outputs": [
    {
     "name": "stdout",
     "output_type": "stream",
     "text": [
      "tensor(3.2938, grad_fn=<DivBackward0>)\n",
      "tensor(13.1751, grad_fn=<AddBackward0>)\n"
     ]
    }
   ],
   "source": [
    "word = 'abel'\n",
    "loss_sum = 0\n",
    "l = len(word)\n",
    "for i in range(l):\n",
    "    input = char2tensor(word[i])\n",
    "    output, hidden = rnn(input.view(1, 27), hidden)\n",
    "    lossfn = torch.nn.NLLLoss()\n",
    "    if i < l - 1:\n",
    "        target = char2index(word[i+1])\n",
    "    else:\n",
    "        target = 26\n",
    "    loss = lossfn(torch.log(output),  torch.tensor([target]))\n",
    "    loss_sum += loss\n",
    "print(loss_sum / l)\n",
    "print(loss_sum)"
   ]
  },
  {
   "cell_type": "markdown",
   "metadata": {},
   "source": [
    "8. 将上述过程在数据上进行反复迭代，训练模型。"
   ]
  },
  {
   "cell_type": "code",
   "execution_count": 17,
   "metadata": {
    "scrolled": true
   },
   "outputs": [
    {
     "name": "stdout",
     "output_type": "stream",
     "text": [
      "epoch 0, obs 0, loss = 3.3991856575012207\n",
      "epoch 0, obs 1000, loss = 2.918344020843506\n",
      "epoch 0, obs 2000, loss = 2.6398532390594482\n",
      "epoch 0, obs 3000, loss = 3.1096529960632324\n",
      "epoch 1, obs 0, loss = 2.776276111602783\n",
      "epoch 1, obs 1000, loss = 2.5617995262145996\n",
      "epoch 1, obs 2000, loss = 2.415987014770508\n",
      "epoch 1, obs 3000, loss = 2.4527029991149902\n",
      "epoch 2, obs 0, loss = 2.5975751876831055\n",
      "epoch 2, obs 1000, loss = 2.585355520248413\n",
      "epoch 2, obs 2000, loss = 2.5821340084075928\n",
      "epoch 2, obs 3000, loss = 2.7673685550689697\n",
      "epoch 3, obs 0, loss = 2.584155559539795\n",
      "epoch 3, obs 1000, loss = 2.1915831565856934\n",
      "epoch 3, obs 2000, loss = 2.4389891624450684\n",
      "epoch 3, obs 3000, loss = 2.0150928497314453\n",
      "epoch 4, obs 0, loss = 2.4576306343078613\n",
      "epoch 4, obs 1000, loss = 2.9122250080108643\n",
      "epoch 4, obs 2000, loss = 2.5470449924468994\n",
      "epoch 4, obs 3000, loss = 2.1251466274261475\n",
      "epoch 5, obs 0, loss = 2.283302068710327\n",
      "epoch 5, obs 1000, loss = 2.564319133758545\n",
      "epoch 5, obs 2000, loss = 2.1136810779571533\n",
      "epoch 5, obs 3000, loss = 2.19895601272583\n",
      "epoch 6, obs 0, loss = 2.385223388671875\n",
      "epoch 6, obs 1000, loss = 2.7023868560791016\n",
      "epoch 6, obs 2000, loss = 2.240619659423828\n",
      "epoch 6, obs 3000, loss = 2.557904005050659\n",
      "epoch 7, obs 0, loss = 1.9776948690414429\n",
      "epoch 7, obs 1000, loss = 1.7167218923568726\n",
      "epoch 7, obs 2000, loss = 1.6471465826034546\n",
      "epoch 7, obs 3000, loss = 1.972745418548584\n",
      "epoch 8, obs 0, loss = 2.3119893074035645\n",
      "epoch 8, obs 1000, loss = 2.0465922355651855\n",
      "epoch 8, obs 2000, loss = 2.7650790214538574\n",
      "epoch 8, obs 3000, loss = 1.8902024030685425\n",
      "epoch 9, obs 0, loss = 2.1596932411193848\n",
      "epoch 9, obs 1000, loss = 2.3838236331939697\n",
      "epoch 9, obs 2000, loss = 2.1008870601654053\n",
      "epoch 9, obs 3000, loss = 3.150839328765869\n"
     ]
    }
   ],
   "source": [
    "np.random.seed(123)\n",
    "torch.random.manual_seed(123)\n",
    "\n",
    "n = len(names)\n",
    "n_hidden = 16\n",
    "n_input = 27\n",
    "nepoch = 10\n",
    "\n",
    "rnn = RNN(n_input, n_hidden)\n",
    "opt = torch.optim.Adam(rnn.parameters(), lr=0.0001)\n",
    "train_ind = np.arange(n)\n",
    "losses = []\n",
    "\n",
    "lossfn = torch.nn.NLLLoss()\n",
    "\n",
    "# Loop over epochs\n",
    "for k in range(nepoch):\n",
    "    # Shuffle the data\n",
    "    np.random.shuffle(train_ind)\n",
    "    # Loop over observations. Each observation is a name\n",
    "    for i in range(n):\n",
    "        name = names[train_ind[i]]\n",
    "        nchar = len(name)\n",
    "        # Loop over the characters in the name\n",
    "        # Each input character has a target, which is the index of the next character in the dictionary\n",
    "        # For the last character in the name, the target is the end-of-sequence symbol, which has index 26\n",
    "        loss = 0\n",
    "        hidden = rnn.init_hidden()\n",
    "        for j in range(nchar):\n",
    "            input = char2tensor(name[j])\n",
    "            output, hidden = rnn(input.view(1, n_input), hidden)\n",
    "\n",
    "            if j == nchar - 1:\n",
    "                target = 26\n",
    "            else:\n",
    "                target = char2index(name[j + 1])\n",
    "\n",
    "            loss = loss + lossfn(torch.log(output), torch.tensor([target]))\n",
    "    \n",
    "        loss = loss / nchar\n",
    "\n",
    "        opt.zero_grad()\n",
    "        loss.backward()\n",
    "        opt.step()\n",
    "\n",
    "        losses.append(loss.item())\n",
    "        if i % 1000 == 0:\n",
    "            print(f\"epoch {k}, obs {i}, loss = {loss.item()}\")"
   ]
  },
  {
   "cell_type": "code",
   "execution_count": null,
   "metadata": {},
   "outputs": [],
   "source": [
    "#所有画图的部分都运行不了\n",
    "import matplotlib.pyplot as plt\n",
    "plt.plot(losses)"
   ]
  },
  {
   "cell_type": "markdown",
   "metadata": {},
   "source": [
    "9. 编写一个函数 `random_first_letter()`，它随机返回字典中的一个字符，我们将利用它来随机生成第一个字符。"
   ]
  },
  {
   "cell_type": "code",
   "execution_count": 19,
   "metadata": {},
   "outputs": [
    {
     "name": "stdout",
     "output_type": "stream",
     "text": [
      "e\n",
      "n\n",
      "e\n"
     ]
    }
   ],
   "source": [
    "def random_first_letter():\n",
    "    # Implementation here\n",
    "    i = np.random.randint(0, 26)\n",
    "    return dict[i]\n",
    "\n",
    "print(random_first_letter())\n",
    "print(random_first_letter())\n",
    "print(random_first_letter())"
   ]
  },
  {
   "cell_type": "markdown",
   "metadata": {},
   "source": [
    "请简要说明如下的代码的含义（可以在代码中加入注释），然后利用它随机生成10个名字。评价生成的结果，并简要说明可以如何改进模型的效果？"
   ]
  },
  {
   "cell_type": "code",
   "execution_count": 20,
   "metadata": {},
   "outputs": [],
   "source": [
    "def random_name(max_len=20):\n",
    "    rnn.eval()\n",
    "    first_letter = random_first_letter()\n",
    "    char_ind = [char2index(first_letter)]\n",
    "    input = char2tensor(first_letter)  #将字母转化为tensor 输入模型\n",
    "    hidden = rnn.init_hidden()\n",
    "    for i in range(max_len - 1):\n",
    "        output, hidden = rnn(input.view(1, n_input), hidden)\n",
    "        ind = torch.argmax(output).item()\n",
    "        if ind == 26:   # 当为终止符时，结束生成\n",
    "            break\n",
    "        char_ind.append(ind)\n",
    "        input.zero_()\n",
    "        input[ind] = 1.0\n",
    "    return \"\".join([dict[i] for i in char_ind]) #返回拼接后的"
   ]
  },
  {
   "cell_type": "code",
   "execution_count": 21,
   "metadata": {},
   "outputs": [
    {
     "name": "stdout",
     "output_type": "stream",
     "text": [
      "lane\n",
      "xarle\n",
      "garlen\n",
      "erer\n",
      "jarlen\n",
      "corlen\n",
      "arer\n",
      "zarlen\n",
      "qarlen\n",
      "warlen\n"
     ]
    }
   ],
   "source": [
    "for i in range(10):\n",
    "    print(random_name())"
   ]
  },
  {
   "cell_type": "markdown",
   "metadata": {},
   "source": [
    "### 第3题"
   ]
  },
  {
   "cell_type": "markdown",
   "metadata": {},
   "source": [
    "利用卷积函数实现任意大整数的乘法。给定两个整数，如 183612 和 23333，用两个列表表达它们的序列："
   ]
  },
  {
   "cell_type": "code",
   "execution_count": 22,
   "metadata": {},
   "outputs": [],
   "source": [
    "n1 = [1, 8, 3, 6, 1, 2]\n",
    "n2 = [2, 3, 3, 3, 3]"
   ]
  },
  {
   "cell_type": "markdown",
   "metadata": {},
   "source": [
    "请编写一个函数 `integer_mult(n1, n2)`，返回 `n1 * n2` 对应的整数序列。注意不要直接调用乘法表达式（设想有两个非常大的整数，直接相乘可能会导致数值溢出）。"
   ]
  },
  {
   "cell_type": "code",
   "execution_count": 4,
   "metadata": {},
   "outputs": [
    {
     "name": "stdout",
     "output_type": "stream",
     "text": [
      "True\n"
     ]
    }
   ],
   "source": [
    "def integer_mult(n1, n2):\n",
    "    res = list(np.convolve(n1,n2))[::-1]\n",
    "    rem = 0\n",
    "    for i in range(len(res)):\n",
    "        res[i] = res[i] + rem\n",
    "        if res[i] > 10:\n",
    "            rem = int(str(res[i])[0])\n",
    "            res[i] = int(str(res[i])[1])\n",
    "    return res[::-1]\n",
    "\n",
    "res = integer_mult(n1, n2)\n",
    "print(res == [4, 2, 8, 4, 2, 1, 8, 7, 9, 6])"
   ]
  },
  {
   "cell_type": "markdown",
   "metadata": {},
   "source": [
    "思路："
   ]
  },
  {
   "cell_type": "markdown",
   "metadata": {},
   "source": [
    "1. 先实现多项式的乘法。例如，给定 $p(x)=1+2x+x^4$ 和 $q(x)=x+3x^2+5x^3$，计算 $r(x)=p(x)q(x)$。我们将 $p(x)$ 编码为 `p = [1, 2, 0, 0, 1]`，$q(x)$ 编码为 `q = [0, 1, 3, 5]`，请编写函数 `poly_mult(p, q)`，使得 `poly_mult(p, q) == [0, 1, 5, 11, 10, 1, 3, 5]`。"
   ]
  },
  {
   "cell_type": "code",
   "execution_count": 5,
   "metadata": {},
   "outputs": [
    {
     "name": "stdout",
     "output_type": "stream",
     "text": [
      "True\n"
     ]
    }
   ],
   "source": [
    "p = [1, 2, 0, 0, 1]\n",
    "q = [0, 1, 3, 5]\n",
    "\n",
    "def poly_mult(p, q):\n",
    "    # Implementation here\n",
    "    n = len(p)\n",
    "    m = len(q)\n",
    "    L = np.array(p).reshape(-1,1).dot(np.array(q).reshape(1,-1))\n",
    "    res = [0] * (len(p) + len(q) - 1)\n",
    "    for i in range(n):\n",
    "        for j in range(m):\n",
    "            res[i + j] += L[i, j]\n",
    "    return res\n",
    "\n",
    "print(poly_mult(p, q) == [0, 1, 5, 11, 10,  1, 3, 5])"
   ]
  },
  {
   "cell_type": "markdown",
   "metadata": {},
   "source": [
    "2. 对于任意的一个整数，将其看成是某个多项式在 $x=10$ 处的取值，如 $123 = p_1(10)$，$p_1(x)=3+2x+x^2$，$5310 = p_2(10)$，$p_2(x)=x+3x^2+5x^3$，注意需要适当将序列反序。因此，要计算 $123\\times 5310$，相当于计算 $r(10)$ 的值，但为了避免直接进行乘法运算（防止溢出），可以先计算 $r(x)$ 的表达式（等价于其系数向量），然后建立起 $r(x)$ 的系数与 $r(10)$ 之间的联系（见如下第3点）。"
   ]
  },
  {
   "cell_type": "markdown",
   "metadata": {},
   "source": [
    "3. 如果一个多项式 $r(x)$ 所有的系数都是0到9之间的整数，那么 $r(x)$ 和 $r(10)$ 的关系非常直接，比如若 $r(x)=1+2x+5x^2+3x^3$，则 $r(10)=3521$。但如果有系数超过10，就需要考虑进位的影响，比如 $r(x)=1+11x+2x^2$，$r(10)=311$。此时可以从 $r(x)$ 的第一项开始逐项进位，构造一个新的多项式 $r'(x)=1+x+3x^2$，满足 $r'(10)=r(10)$，且 $r'(x)$ 所有的系数都不超过10。 "
   ]
  },
  {
   "cell_type": "markdown",
   "metadata": {},
   "source": [
    "4. 综合利用以上信息，完成本题的算法编写。并测试 23742389754298365 * 809723950 的结果。"
   ]
  },
  {
   "cell_type": "code",
   "execution_count": 7,
   "metadata": {},
   "outputs": [
    {
     "name": "stdout",
     "output_type": "stream",
     "text": [
      "9214025846297658050701750\n"
     ]
    }
   ],
   "source": [
    "p = [int(x) for x in '23742389754298365']\n",
    "q = [int(x) for x in '809723950']\n",
    "print(''.join([str(x) for x in integer_mult(p, q)]))"
   ]
  }
 ],
 "metadata": {
  "kernelspec": {
   "display_name": "Python 3",
   "language": "python",
   "name": "python3"
  },
  "language_info": {
   "codemirror_mode": {
    "name": "ipython",
    "version": 3
   },
   "file_extension": ".py",
   "mimetype": "text/x-python",
   "name": "python",
   "nbconvert_exporter": "python",
   "pygments_lexer": "ipython3",
   "version": "3.8.5"
  }
 },
 "nbformat": 4,
 "nbformat_minor": 5
}
